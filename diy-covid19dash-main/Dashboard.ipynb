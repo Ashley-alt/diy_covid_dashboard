{
 "cells": [
  {
   "cell_type": "markdown",
   "metadata": {},
   "source": [
    "[DIY Covid-19 Dashboard Kit](https://github.com/fsmeraldi/diy-covid19dash) (C) Fabrizio Smeraldi, 2020 ([f.smeraldi@qmul.ac.uk](mailto:f.smeraldi@qmul.ac.uk) - [web](http://www.eecs.qmul.ac.uk/~fabri/)). All rights reserved."
   ]
  },
  {
   "cell_type": "markdown",
   "metadata": {},
   "source": [
    "# Covid-19 Cases across England Dashboard- Ashley Olubanjo"
   ]
  },
  {
   "attachments": {},
   "cell_type": "markdown",
   "metadata": {},
   "source": [
    "The data presented has been extracted from Public Health England (PHE). It is investigating the distribution of corona virus cases by sex and age bands across England."
   ]
  },
  {
   "cell_type": "code",
   "execution_count": 1,
   "metadata": {},
   "outputs": [],
   "source": [
    "import ipywidgets as wdg\n",
    "import pandas as pd\n",
    "import numpy as np\n",
    "import matplotlib.pyplot as plt\n",
    "import json\n",
    "from uk_covid19 import Cov19API"
   ]
  },
  {
   "cell_type": "code",
   "execution_count": 2,
   "metadata": {},
   "outputs": [],
   "source": [
    "%matplotlib inline\n",
    "# make figures larger\n",
    "plt.rcParams['figure.dpi'] = 100"
   ]
  },
  {
   "cell_type": "markdown",
   "metadata": {},
   "source": []
  },
  {
   "cell_type": "code",
   "execution_count": 98,
   "metadata": {},
   "outputs": [
    {
     "data": {
      "text/plain": [
       "{'males': [{'age': '60_to_64', 'value': 32605, 'rate': 2134.9},\n",
       "  {'age': '0_to_4', 'value': 11424, 'rate': 674.7},\n",
       "  {'age': '80_to_84', 'value': 16754, 'rate': 2636.5},\n",
       "  {'age': '75_to_79', 'value': 17234, 'rate': 1913.4},\n",
       "  {'age': '90+', 'value': 9177, 'rate': 5520.5},\n",
       "  {'age': '25_to_29', 'value': 51571, 'rate': 2876.7},\n",
       "  {'age': '40_to_44', 'value': 41197, 'rate': 2227.9},\n",
       "  {'age': '55_to_59', 'value': 42723, 'rate': 2217.2},\n",
       "  {'age': '45_to_49', 'value': 43235, 'rate': 2542.9},\n",
       "  {'age': '20_to_24', 'value': 58961, 'rate': 3713.6},\n",
       "  {'age': '70_to_74', 'value': 19914, 'rate': 1497.1},\n",
       "  {'age': '50_to_54', 'value': 46584, 'rate': 2532.7},\n",
       "  {'age': '65_to_69', 'value': 22224, 'rate': 1642.8},\n",
       "  {'age': '35_to_39', 'value': 44586, 'rate': 2346},\n",
       "  {'age': '30_to_34', 'value': 49479, 'rate': 2559.5},\n",
       "  {'age': '15_to_19', 'value': 48206, 'rate': 2803.6},\n",
       "  {'age': '5_to_9', 'value': 12237, 'rate': 676.2},\n",
       "  {'age': '85_to_89', 'value': 13518, 'rate': 3852.9},\n",
       "  {'age': '10_to_14', 'value': 21478, 'rate': 1185}],\n",
       " 'females': [{'age': '40_to_44', 'value': 51125, 'rate': 2712.9},\n",
       "  {'age': '80_to_84', 'value': 17690, 'rate': 2199},\n",
       "  {'age': '45_to_49', 'value': 53781, 'rate': 3137.6},\n",
       "  {'age': '35_to_39', 'value': 54440, 'rate': 2854.1},\n",
       "  {'age': '55_to_59', 'value': 48871, 'rate': 2467.6},\n",
       "  {'age': '10_to_14', 'value': 20958, 'rate': 1214.4},\n",
       "  {'age': '20_to_24', 'value': 71061, 'rate': 4729.5},\n",
       "  {'age': '50_to_54', 'value': 56252, 'rate': 2997.7},\n",
       "  {'age': '30_to_34', 'value': 59876, 'rate': 3204.9},\n",
       "  {'age': '75_to_79', 'value': 15876, 'rate': 1526.6},\n",
       "  {'age': '70_to_74', 'value': 17059, 'rate': 1177.2},\n",
       "  {'age': '15_to_19', 'value': 59585, 'rate': 3644.8},\n",
       "  {'age': '60_to_64', 'value': 33022, 'rate': 2083.9},\n",
       "  {'age': '5_to_9', 'value': 11360, 'rate': 610.4},\n",
       "  {'age': '25_to_29', 'value': 64039, 'rate': 3777.8},\n",
       "  {'age': '85_to_89', 'value': 18570, 'rate': 3510.9},\n",
       "  {'age': '65_to_69', 'value': 19572, 'rate': 1355.5},\n",
       "  {'age': '90+', 'value': 20193, 'rate': 5752.4},\n",
       "  {'age': '0_to_4', 'value': 10977, 'rate': 683.3}]}"
      ]
     },
     "execution_count": 98,
     "metadata": {},
     "output_type": "execute_result"
    }
   ],
   "source": [
    "jsondata={}\n",
    "with open(\"agedistribution.json\", \"rt\") as INFILE:\n",
    "    data= json.load(INFILE)\n",
    "datadict=data['data'][0]\n",
    "datadict"
   ]
  },
  {
   "cell_type": "markdown",
   "metadata": {},
   "source": [
    "# Non-interactive Graph \n",
    "\n",
    "The cases of corona virus across England, have been organised into sex and age bands. As you can see, there are more cases of corona virus in females across all age bands compared to males, except ages 0- 14 and 65- 79. The majority of corona virus cases occuring are coming from age bands anywhere from 15- 59. Meaning minors and the elderly are least effected.\n",
    "\n",
    "The highest number of cases are in the age band 20- 24, where females are reaching 70000 Covid-19 cases and males are reaching 600000 cases.\n",
    "\n",
    "The lowest number of cases are in the age band 90+ for male cases and 0-4 for female cases"
   ]
  },
  {
   "cell_type": "code",
   "execution_count": 52,
   "metadata": {},
   "outputs": [
    {
     "data": {
      "image/png": "[encoded data removed]",
      "text/plain": [
       "<Figure size 600x400 with 1 Axes>"
      ]
     },
     "metadata": {
      "needs_background": "light"
     },
     "output_type": "display_data"
    }
   ],
   "source": [
    "\n",
    "def wrangle_data(data):\n",
    "    datadict=data['data'][0]\n",
    "    \n",
    "    males=datadict['males']\n",
    "    females=datadict['females']\n",
    "    \n",
    "    ageranges=[x['age'] for x in males]\n",
    "    \n",
    "    def min_age(agerange):\n",
    "        agerange=agerange.replace('+','') \n",
    "        start=agerange.split('_')[0]\n",
    "        return int(start)\n",
    "\n",
    "    ageranges.sort(key=min_age)\n",
    "    age_df=pd.DataFrame(index=ageranges, columns=['males', 'females','total'])\n",
    "    \n",
    "    \n",
    "    for entry in males: \n",
    "        ageband=entry['age'] \n",
    "        age_df.loc[ageband, 'males']=entry['value']\n",
    "    \n",
    "    for entry in females:\n",
    "        ageband=entry['age']\n",
    "        age_df.loc[ageband, 'females']=entry['value']\n",
    "    \n",
    "\n",
    "    age_df['total']=age_df['males']+age_df['females']\n",
    "        \n",
    "    return age_df\n",
    "\n",
    "df1= wrangle_data(data) \n",
    "df1\n",
    "\n",
    "age_df.plot(kind='bar', y=['males','females'])\n",
    "age_df.to_pickle(\"agedf.pkl\")\n"
   ]
  },
  {
   "cell_type": "markdown",
   "metadata": {},
   "source": []
  },
  {
   "cell_type": "markdown",
   "metadata": {},
   "source": []
  },
  {
   "cell_type": "code",
   "execution_count": 116,
   "metadata": {},
   "outputs": [],
   "source": [
    "output = wdg.Output()\n",
    "@output.capture(clear_output=True, wait=True)\n",
    "def access_api():\n",
    "    filters = [\n",
    "        'areaType=nation',\n",
    "        'areaName=England'\n",
    "    ]\n",
    "    \n",
    "    structure = {\n",
    "        \"males\": \"maleCases\",\n",
    "        \"females\": \"femaleCases\"\n",
    "    }\n",
    "    \n",
    "    api = Cov19API(filters=filters, structure=structure)\n",
    "    agedistrubution=api.get_json()\n",
    "    \n",
    "    OUTFILE = open('agedistrubution.json', 'wt')\n",
    "    json.dump(agedistrubution, OUTFILE)\n",
    "    OUTFILE.close()\n",
    "    INFILE = open('agedistrubution.json', 'rt')\n",
    "    jsondata = json.load(INFILE)\n",
    "    INFILE.close\n",
    "    \n",
    "    return jsondata \n",
    "    \n",
    "    "
   ]
  },
  {
   "cell_type": "code",
   "execution_count": 115,
   "metadata": {},
   "outputs": [
    {
     "data": {
      "application/vnd.jupyter.widget-view+json": {
       "model_id": "6db11ac9103a452fa7c637d8e6e5e91a",
       "version_major": 2,
       "version_minor": 0
      },
      "text/plain": [
       "Button(button_style='success', description='refresh data', icon='download', style=ButtonStyle(), tooltip='Clic…"
      ]
     },
     "metadata": {},
     "output_type": "display_data"
    },
    {
     "data": {
      "application/vnd.jupyter.widget-view+json": {
       "model_id": "34a49ae030f24546828a4f593c7ac959",
       "version_major": 2,
       "version_minor": 0
      },
      "text/plain": [
       "Output()"
      ]
     },
     "metadata": {},
     "output_type": "display_data"
    }
   ],
   "source": [
    "\n",
    "output = wdg.Output()\n",
    "@output.capture(clear_output=True, wait=True)\n",
    "\n",
    "def api_button_callback(button):\n",
    "    print(\"I'm downloading data from the API...\")\n",
    "    print(\"...all done.\")\n",
    "    \"\"\" Button callback - it must take the button as its parameter (unused in this case).\n",
    "    Accesses API, wrangles data, updates global variable df used for plotting. \"\"\"\n",
    "    \n",
    "    apidata=access_api(button)\n",
    "    \n",
    "    global age_df\n",
    "    age_df=wrangle_data(data)\n",
    "   \n",
    "    \n",
    "    apibutton.icon=\"check\"\n",
    "   \n",
    "    \n",
    "\n",
    "    \n",
    "apibutton=wdg.Button(\n",
    "    description='refresh data', \n",
    "    disabled=False,\n",
    "    button_style='success', \n",
    "    tooltip=\"Click to download current Public Health England data\",\n",
    "    \n",
    "    icon='download'\n",
    ")\n",
    "\n",
    "\n",
    "apibutton.on_click(access_api) \n",
    "\n",
    "display(apibutton)\n",
    "output\n",
    "\n",
    "\n",
    "\n"
   ]
  },
  {
   "cell_type": "markdown",
   "metadata": {},
   "source": [
    "# Interactive Graph"
   ]
  },
  {
   "cell_type": "markdown",
   "metadata": {},
   "source": [
    "This interactive graph shows the total of both male and female Covid-19 cases across all age bands. The graph shows that the age band with the most Covid-19 cases for both males and females is 20- 24. "
   ]
  },
  {
   "cell_type": "code",
   "execution_count": 99,
   "metadata": {},
   "outputs": [
    {
     "data": {
      "application/vnd.jupyter.widget-view+json": {
       "model_id": "22998ed4135c4051976699b99768f3b7",
       "version_major": 2,
       "version_minor": 0
      },
      "text/plain": [
       "SelectMultiple(description='Sex', index=(0, 1), options=('males', 'females', 'total'), rows=3, value=('males',…"
      ]
     },
     "metadata": {},
     "output_type": "display_data"
    },
    {
     "data": {
      "application/vnd.jupyter.widget-view+json": {
       "model_id": "6d9902d71ff04dfeb0a6e5691d38c842",
       "version_major": 2,
       "version_minor": 0
      },
      "text/plain": [
       "Output()"
      ]
     },
     "metadata": {},
     "output_type": "display_data"
    }
   ],
   "source": [
    "\n",
    "agecols=wdg.SelectMultiple(\n",
    "    options=['males', 'females', 'total'], \n",
    "    value=['males', 'females'], \n",
    "    rows=3, \n",
    "    description='Sex',\n",
    "    disabled=False\n",
    ")\n",
    "\n",
    "def age_graph(graphcolumns):\n",
    "    \n",
    "    ncols=len(graphcolumns)\n",
    "    if ncols>0:\n",
    "        age_df.plot(kind='bar', y=list(graphcolumns)) \n",
    "    else:\n",
    "        \n",
    "        print(\"Click to select data for graph\")\n",
    "        print(\"(CTRL-Click to select more than one category)\")\n",
    "        \n",
    "def refresh_graph():\n",
    "    \"\"\" We change the value of the widget in order to force a redraw of the graph;\n",
    "    this is useful when the data have been updated. This is a bit of a gimmick; it\n",
    "    needs to be customised for one of your widgets. \"\"\"\n",
    "    current=agecols.value\n",
    "    if current==agecols.options[0]:\n",
    "        other=agecols.options[1]\n",
    "    else:\n",
    "        other=agecols.options[0]\n",
    "    agecols.value=other \n",
    "    agecols.value=current \n",
    "    \n",
    "    \n",
    "    \n",
    "output=wdg.interactive_output(age_graph, {'graphcolumns': agecols})\n",
    "\n",
    "display(agecols, output)\n"
   ]
  },
  {
   "cell_type": "markdown",
   "metadata": {},
   "source": [
    " "
   ]
  },
  {
   "cell_type": "markdown",
   "metadata": {},
   "source": [
    "**Author and Copyright Notice** Remember if you deploy this dashboard as a Binder it will be publicly accessible. Take credit for your work! Also acknowledge the data source: *Based on UK Government [data](https://coronavirus.data.gov.uk/) published by [Public Health England](https://www.gov.uk/government/organisations/public-health-england).*"
   ]
  }
 ],
 "metadata": {
  "kernelspec": {
   "display_name": "Python 3",
   "language": "python",
   "name": "python3"
  },
  "language_info": {
   "codemirror_mode": {
    "name": "ipython",
    "version": 3
   },
   "file_extension": ".py",
   "mimetype": "text/x-python",
   "name": "python",
   "nbconvert_exporter": "python",
   "pygments_lexer": "ipython3",
   "version": "3.8.5"
  }
 },
 "nbformat": 4,
 "nbformat_minor": 4
}
